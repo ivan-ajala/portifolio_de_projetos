{
 "cells": [
  {
   "cell_type": "markdown",
   "id": "ef6814c7",
   "metadata": {},
   "source": [
    "## Projeto - Otimização de Alocação de Recursos com Clusterização\n"
   ]
  },
  {
   "cell_type": "markdown",
   "id": "e0fd38fa",
   "metadata": {},
   "source": [
    "\n",
    "**Descrição**: Análise de segmentação de colaboradores para alocação estratégica em projetos\n",
    "\n",
    "\n",
    "**Autor**: Ivan Ajala"
   ]
  },
  {
   "cell_type": "code",
   "execution_count": 2,
   "id": "559981d8",
   "metadata": {},
   "outputs": [],
   "source": [
    "# importação das bibliotecas\n",
    "\n",
    "import pandas as pd\n",
    "import numpy as np\n",
    "import matplotlib.pyplot as plt\n",
    "import seaborn as sns\n",
    "\n",
    "from sklearn.preprocessing import StandardScaler\n",
    "from sklearn.cluster import KMeans\n",
    "from sklearn.metrics import silhouette_score\n",
    "import scipy.stats as stats\n",
    "import warnings\n",
    "\n",
    "warnings.filterwarnings('ignore')"
   ]
  },
  {
   "cell_type": "code",
   "execution_count": 3,
   "id": "7c723412",
   "metadata": {},
   "outputs": [],
   "source": [
    "# Configurações visuais\n",
    "\n",
    "plt.style.use('seaborn-v0_8')\n",
    "sns.set_palette(\"husl\")"
   ]
  },
  {
   "cell_type": "markdown",
   "id": "12ac54f6",
   "metadata": {},
   "source": [
    "#### 1. CARREGAMENTO E EXPLORAÇÃO DOS DADOS"
   ]
  },
  {
   "cell_type": "code",
   "execution_count": 10,
   "id": "7655c3f9",
   "metadata": {},
   "outputs": [
    {
     "name": "stdout",
     "output_type": "stream",
     "text": [
      "============================================================\n",
      "ANÁLISE DE SEGMENTAÇÃO DE COLABORADORES\n",
      "============================================================\n",
      "\n",
      "1. PRIMEIRA VISUALIZAÇÃO DOS DADOS:\n",
      "Dimensões do dataset: (1470, 35)\n",
      "\n",
      "Colunas disponíveis:\n",
      "['Age', 'Attrition', 'BusinessTravel', 'DailyRate', 'Department', 'DistanceFromHome', 'Education', 'EducationField', 'EmployeeCount', 'EmployeeNumber', 'EnvironmentSatisfaction', 'Gender', 'HourlyRate', 'JobInvolvement', 'JobLevel', 'JobRole', 'JobSatisfaction', 'MaritalStatus', 'MonthlyIncome', 'MonthlyRate', 'NumCompaniesWorked', 'Over18', 'OverTime', 'PercentSalaryHike', 'PerformanceRating', 'RelationshipSatisfaction', 'StandardHours', 'StockOptionLevel', 'TotalWorkingYears', 'TrainingTimesLastYear', 'WorkLifeBalance', 'YearsAtCompany', 'YearsInCurrentRole', 'YearsSinceLastPromotion', 'YearsWithCurrManager']\n",
      "\n",
      "Primeiras 5 linhas:\n"
     ]
    },
    {
     "data": {
      "text/html": [
       "<div>\n",
       "<style scoped>\n",
       "    .dataframe tbody tr th:only-of-type {\n",
       "        vertical-align: middle;\n",
       "    }\n",
       "\n",
       "    .dataframe tbody tr th {\n",
       "        vertical-align: top;\n",
       "    }\n",
       "\n",
       "    .dataframe thead th {\n",
       "        text-align: right;\n",
       "    }\n",
       "</style>\n",
       "<table border=\"1\" class=\"dataframe\">\n",
       "  <thead>\n",
       "    <tr style=\"text-align: right;\">\n",
       "      <th></th>\n",
       "      <th>Age</th>\n",
       "      <th>Attrition</th>\n",
       "      <th>BusinessTravel</th>\n",
       "      <th>DailyRate</th>\n",
       "      <th>Department</th>\n",
       "      <th>DistanceFromHome</th>\n",
       "      <th>Education</th>\n",
       "      <th>EducationField</th>\n",
       "      <th>EmployeeCount</th>\n",
       "      <th>EmployeeNumber</th>\n",
       "      <th>...</th>\n",
       "      <th>RelationshipSatisfaction</th>\n",
       "      <th>StandardHours</th>\n",
       "      <th>StockOptionLevel</th>\n",
       "      <th>TotalWorkingYears</th>\n",
       "      <th>TrainingTimesLastYear</th>\n",
       "      <th>WorkLifeBalance</th>\n",
       "      <th>YearsAtCompany</th>\n",
       "      <th>YearsInCurrentRole</th>\n",
       "      <th>YearsSinceLastPromotion</th>\n",
       "      <th>YearsWithCurrManager</th>\n",
       "    </tr>\n",
       "  </thead>\n",
       "  <tbody>\n",
       "    <tr>\n",
       "      <th>0</th>\n",
       "      <td>41</td>\n",
       "      <td>Yes</td>\n",
       "      <td>Travel_Rarely</td>\n",
       "      <td>1102</td>\n",
       "      <td>Sales</td>\n",
       "      <td>1</td>\n",
       "      <td>2</td>\n",
       "      <td>Life Sciences</td>\n",
       "      <td>1</td>\n",
       "      <td>1</td>\n",
       "      <td>...</td>\n",
       "      <td>1</td>\n",
       "      <td>80</td>\n",
       "      <td>0</td>\n",
       "      <td>8</td>\n",
       "      <td>0</td>\n",
       "      <td>1</td>\n",
       "      <td>6</td>\n",
       "      <td>4</td>\n",
       "      <td>0</td>\n",
       "      <td>5</td>\n",
       "    </tr>\n",
       "    <tr>\n",
       "      <th>1</th>\n",
       "      <td>49</td>\n",
       "      <td>No</td>\n",
       "      <td>Travel_Frequently</td>\n",
       "      <td>279</td>\n",
       "      <td>Research &amp; Development</td>\n",
       "      <td>8</td>\n",
       "      <td>1</td>\n",
       "      <td>Life Sciences</td>\n",
       "      <td>1</td>\n",
       "      <td>2</td>\n",
       "      <td>...</td>\n",
       "      <td>4</td>\n",
       "      <td>80</td>\n",
       "      <td>1</td>\n",
       "      <td>10</td>\n",
       "      <td>3</td>\n",
       "      <td>3</td>\n",
       "      <td>10</td>\n",
       "      <td>7</td>\n",
       "      <td>1</td>\n",
       "      <td>7</td>\n",
       "    </tr>\n",
       "    <tr>\n",
       "      <th>2</th>\n",
       "      <td>37</td>\n",
       "      <td>Yes</td>\n",
       "      <td>Travel_Rarely</td>\n",
       "      <td>1373</td>\n",
       "      <td>Research &amp; Development</td>\n",
       "      <td>2</td>\n",
       "      <td>2</td>\n",
       "      <td>Other</td>\n",
       "      <td>1</td>\n",
       "      <td>4</td>\n",
       "      <td>...</td>\n",
       "      <td>2</td>\n",
       "      <td>80</td>\n",
       "      <td>0</td>\n",
       "      <td>7</td>\n",
       "      <td>3</td>\n",
       "      <td>3</td>\n",
       "      <td>0</td>\n",
       "      <td>0</td>\n",
       "      <td>0</td>\n",
       "      <td>0</td>\n",
       "    </tr>\n",
       "    <tr>\n",
       "      <th>3</th>\n",
       "      <td>33</td>\n",
       "      <td>No</td>\n",
       "      <td>Travel_Frequently</td>\n",
       "      <td>1392</td>\n",
       "      <td>Research &amp; Development</td>\n",
       "      <td>3</td>\n",
       "      <td>4</td>\n",
       "      <td>Life Sciences</td>\n",
       "      <td>1</td>\n",
       "      <td>5</td>\n",
       "      <td>...</td>\n",
       "      <td>3</td>\n",
       "      <td>80</td>\n",
       "      <td>0</td>\n",
       "      <td>8</td>\n",
       "      <td>3</td>\n",
       "      <td>3</td>\n",
       "      <td>8</td>\n",
       "      <td>7</td>\n",
       "      <td>3</td>\n",
       "      <td>0</td>\n",
       "    </tr>\n",
       "    <tr>\n",
       "      <th>4</th>\n",
       "      <td>27</td>\n",
       "      <td>No</td>\n",
       "      <td>Travel_Rarely</td>\n",
       "      <td>591</td>\n",
       "      <td>Research &amp; Development</td>\n",
       "      <td>2</td>\n",
       "      <td>1</td>\n",
       "      <td>Medical</td>\n",
       "      <td>1</td>\n",
       "      <td>7</td>\n",
       "      <td>...</td>\n",
       "      <td>4</td>\n",
       "      <td>80</td>\n",
       "      <td>1</td>\n",
       "      <td>6</td>\n",
       "      <td>3</td>\n",
       "      <td>3</td>\n",
       "      <td>2</td>\n",
       "      <td>2</td>\n",
       "      <td>2</td>\n",
       "      <td>2</td>\n",
       "    </tr>\n",
       "  </tbody>\n",
       "</table>\n",
       "<p>5 rows × 35 columns</p>\n",
       "</div>"
      ],
      "text/plain": [
       "   Age Attrition     BusinessTravel  DailyRate              Department  \\\n",
       "0   41       Yes      Travel_Rarely       1102                   Sales   \n",
       "1   49        No  Travel_Frequently        279  Research & Development   \n",
       "2   37       Yes      Travel_Rarely       1373  Research & Development   \n",
       "3   33        No  Travel_Frequently       1392  Research & Development   \n",
       "4   27        No      Travel_Rarely        591  Research & Development   \n",
       "\n",
       "   DistanceFromHome  Education EducationField  EmployeeCount  EmployeeNumber  \\\n",
       "0                 1          2  Life Sciences              1               1   \n",
       "1                 8          1  Life Sciences              1               2   \n",
       "2                 2          2          Other              1               4   \n",
       "3                 3          4  Life Sciences              1               5   \n",
       "4                 2          1        Medical              1               7   \n",
       "\n",
       "   ...  RelationshipSatisfaction StandardHours  StockOptionLevel  \\\n",
       "0  ...                         1            80                 0   \n",
       "1  ...                         4            80                 1   \n",
       "2  ...                         2            80                 0   \n",
       "3  ...                         3            80                 0   \n",
       "4  ...                         4            80                 1   \n",
       "\n",
       "   TotalWorkingYears  TrainingTimesLastYear WorkLifeBalance  YearsAtCompany  \\\n",
       "0                  8                      0               1               6   \n",
       "1                 10                      3               3              10   \n",
       "2                  7                      3               3               0   \n",
       "3                  8                      3               3               8   \n",
       "4                  6                      3               3               2   \n",
       "\n",
       "  YearsInCurrentRole  YearsSinceLastPromotion  YearsWithCurrManager  \n",
       "0                  4                        0                     5  \n",
       "1                  7                        1                     7  \n",
       "2                  0                        0                     0  \n",
       "3                  7                        3                     0  \n",
       "4                  2                        2                     2  \n",
       "\n",
       "[5 rows x 35 columns]"
      ]
     },
     "execution_count": 10,
     "metadata": {},
     "output_type": "execute_result"
    }
   ],
   "source": [
    "print(\"=\" * 60)\n",
    "print(\"ANÁLISE DE SEGMENTAÇÃO DE COLABORADORES\")\n",
    "print(\"=\" * 60)\n",
    "\n",
    "# Carregar dados\n",
    "df = pd.read_csv('WA_Fn-UseC_-HR-Employee-Attrition.csv')\n",
    "\n",
    "print(\"\\n1. PRIMEIRA VISUALIZAÇÃO DOS DADOS:\")\n",
    "print(f\"Dimensões do dataset: {df.shape}\")\n",
    "print(f\"\\nColunas disponíveis:\")\n",
    "print(df.columns.tolist())\n",
    "print(f\"\\nPrimeiras 5 linhas:\")\n",
    "df.head()"
   ]
  },
  {
   "cell_type": "markdown",
   "id": "4db727a7",
   "metadata": {},
   "source": [
    "#### 2. ANÁLISE EXPLORATÓRIA (EDA) - ESTATÍSTICA DESCRITIVA"
   ]
  },
  {
   "cell_type": "code",
   "execution_count": 14,
   "id": "1b849210",
   "metadata": {},
   "outputs": [
    {
     "name": "stdout",
     "output_type": "stream",
     "text": [
      "\n",
      "============================================================\n",
      "ESTATÍSTICA DESCRITIVA - VARIÁVEIS RELEVANTES\n",
      "============================================================\n"
     ]
    },
    {
     "data": {
      "text/html": [
       "<div>\n",
       "<style scoped>\n",
       "    .dataframe tbody tr th:only-of-type {\n",
       "        vertical-align: middle;\n",
       "    }\n",
       "\n",
       "    .dataframe tbody tr th {\n",
       "        vertical-align: top;\n",
       "    }\n",
       "\n",
       "    .dataframe thead th {\n",
       "        text-align: right;\n",
       "    }\n",
       "</style>\n",
       "<table border=\"1\" class=\"dataframe\">\n",
       "  <thead>\n",
       "    <tr style=\"text-align: right;\">\n",
       "      <th></th>\n",
       "      <th>JobSatisfaction</th>\n",
       "      <th>PerformanceRating</th>\n",
       "      <th>YearsAtCompany</th>\n",
       "      <th>TotalWorkingYears</th>\n",
       "      <th>YearsInCurrentRole</th>\n",
       "      <th>YearsSinceLastPromotion</th>\n",
       "    </tr>\n",
       "  </thead>\n",
       "  <tbody>\n",
       "    <tr>\n",
       "      <th>count</th>\n",
       "      <td>1470.000000</td>\n",
       "      <td>1470.000000</td>\n",
       "      <td>1470.000000</td>\n",
       "      <td>1470.000000</td>\n",
       "      <td>1470.000000</td>\n",
       "      <td>1470.000000</td>\n",
       "    </tr>\n",
       "    <tr>\n",
       "      <th>mean</th>\n",
       "      <td>2.728571</td>\n",
       "      <td>3.153741</td>\n",
       "      <td>7.008163</td>\n",
       "      <td>11.279592</td>\n",
       "      <td>4.229252</td>\n",
       "      <td>2.187755</td>\n",
       "    </tr>\n",
       "    <tr>\n",
       "      <th>std</th>\n",
       "      <td>1.102846</td>\n",
       "      <td>0.360824</td>\n",
       "      <td>6.126525</td>\n",
       "      <td>7.780782</td>\n",
       "      <td>3.623137</td>\n",
       "      <td>3.222430</td>\n",
       "    </tr>\n",
       "    <tr>\n",
       "      <th>min</th>\n",
       "      <td>1.000000</td>\n",
       "      <td>3.000000</td>\n",
       "      <td>0.000000</td>\n",
       "      <td>0.000000</td>\n",
       "      <td>0.000000</td>\n",
       "      <td>0.000000</td>\n",
       "    </tr>\n",
       "    <tr>\n",
       "      <th>25%</th>\n",
       "      <td>2.000000</td>\n",
       "      <td>3.000000</td>\n",
       "      <td>3.000000</td>\n",
       "      <td>6.000000</td>\n",
       "      <td>2.000000</td>\n",
       "      <td>0.000000</td>\n",
       "    </tr>\n",
       "    <tr>\n",
       "      <th>50%</th>\n",
       "      <td>3.000000</td>\n",
       "      <td>3.000000</td>\n",
       "      <td>5.000000</td>\n",
       "      <td>10.000000</td>\n",
       "      <td>3.000000</td>\n",
       "      <td>1.000000</td>\n",
       "    </tr>\n",
       "    <tr>\n",
       "      <th>75%</th>\n",
       "      <td>4.000000</td>\n",
       "      <td>3.000000</td>\n",
       "      <td>9.000000</td>\n",
       "      <td>15.000000</td>\n",
       "      <td>7.000000</td>\n",
       "      <td>3.000000</td>\n",
       "    </tr>\n",
       "    <tr>\n",
       "      <th>max</th>\n",
       "      <td>4.000000</td>\n",
       "      <td>4.000000</td>\n",
       "      <td>40.000000</td>\n",
       "      <td>40.000000</td>\n",
       "      <td>18.000000</td>\n",
       "      <td>15.000000</td>\n",
       "    </tr>\n",
       "  </tbody>\n",
       "</table>\n",
       "</div>"
      ],
      "text/plain": [
       "       JobSatisfaction  PerformanceRating  YearsAtCompany  TotalWorkingYears  \\\n",
       "count      1470.000000        1470.000000     1470.000000        1470.000000   \n",
       "mean          2.728571           3.153741        7.008163          11.279592   \n",
       "std           1.102846           0.360824        6.126525           7.780782   \n",
       "min           1.000000           3.000000        0.000000           0.000000   \n",
       "25%           2.000000           3.000000        3.000000           6.000000   \n",
       "50%           3.000000           3.000000        5.000000          10.000000   \n",
       "75%           4.000000           3.000000        9.000000          15.000000   \n",
       "max           4.000000           4.000000       40.000000          40.000000   \n",
       "\n",
       "       YearsInCurrentRole  YearsSinceLastPromotion  \n",
       "count         1470.000000              1470.000000  \n",
       "mean             4.229252                 2.187755  \n",
       "std              3.623137                 3.222430  \n",
       "min              0.000000                 0.000000  \n",
       "25%              2.000000                 0.000000  \n",
       "50%              3.000000                 1.000000  \n",
       "75%              7.000000                 3.000000  \n",
       "max             18.000000                15.000000  "
      ]
     },
     "execution_count": 14,
     "metadata": {},
     "output_type": "execute_result"
    }
   ],
   "source": [
    "print(\"\\n\" + \"=\" * 60)\n",
    "print(\"ESTATÍSTICA DESCRITIVA - VARIÁVEIS RELEVANTES\")\n",
    "print(\"=\" * 60)\n",
    "\n",
    "# Selecionando features relevantes para clusterização\n",
    "\n",
    "features = ['JobSatisfaction', 'PerformanceRating', 'YearsAtCompany', \n",
    "           'TotalWorkingYears', 'YearsInCurrentRole', 'YearsSinceLastPromotion']\n",
    "\n",
    "# Estatística descritiva\n",
    "desc_stats = df[features].describe()\n",
    "desc_stats"
   ]
  },
  {
   "cell_type": "code",
   "execution_count": 15,
   "id": "ad05ddd6",
   "metadata": {},
   "outputs": [
    {
     "name": "stdout",
     "output_type": "stream",
     "text": [
      "\n",
      "Análise de distribuição:\n",
      "JobSatisfaction: Assimetria = -0.329\n",
      "PerformanceRating: Assimetria = 1.920\n",
      "YearsAtCompany: Assimetria = 1.763\n",
      "TotalWorkingYears: Assimetria = 1.116\n",
      "YearsInCurrentRole: Assimetria = 0.916\n",
      "YearsSinceLastPromotion: Assimetria = 1.982\n"
     ]
    }
   ],
   "source": [
    "# Análise de distribuição\n",
    "print(f\"\\nAnálise de distribuição:\")\n",
    "for feature in features:\n",
    "    skewness = stats.skew(df[feature].dropna())\n",
    "    print(f\"{feature}: Assimetria = {skewness:.3f}\")"
   ]
  },
  {
   "cell_type": "markdown",
   "id": "e827e76c",
   "metadata": {},
   "source": [
    "**Variáveis com Assimetria Negativa (Cauda à Esquerda)**\n",
    "\n",
    "**Levemente Negativa**:\n",
    "\n",
    "- JobSatisfaction = -0.329 \n",
    "\n",
    "    > A cauda da distribuição é um pouco mais longa para a esquerda. Isso sugere que a maioria das respostas de satisfação (a moda e a mediana) estão concentradas em valores mais altos (indicando maior satisfação), com menos pessoas reportando satisfação muito baixa."
   ]
  },
  {
   "cell_type": "markdown",
   "id": "778aa8c5",
   "metadata": {},
   "source": [
    "**Variáveis com Assimetria Positiva (Cauda à Direita)**\n",
    "\n",
    "**Moderadamente Positiva**: \n",
    "\n",
    "- TotalWorkingYears = 1.116\n",
    "\n",
    "    > Semelhante a `YearsAtCompany`, a maioria dos funcionários tem poucos anos de experiência total, mas há uma cauda de profissionais com muita experiência.\n",
    "\n",
    "\n",
    "- YearsInCurrentRole = 0.916\n",
    "\n",
    "    > A maioria das pessoas está em sua função atual há um período relativamente curto, mas há funcionários que estão na mesma função há muito tempo."
   ]
  },
  {
   "cell_type": "markdown",
   "id": "95f6a580",
   "metadata": {},
   "source": [
    "**Fortemente Positiva**:\n",
    "\n",
    "- YearsSinceLastPromotion = 1.982\n",
    "\n",
    "    > É a mais assimétrica. A maioria das pessoas recebeu uma promoção recentemente (anos desde a promoção é baixo), mas há uma cauda longa de funcionários que esperam por uma promoção há muitos anos.\n",
    "\n",
    "- YearsAtCompany = 1.763\n",
    "\n",
    "    > A maioria dos funcionários está na empresa há poucos anos, mas existe um grupo menor de funcionários de longa data (veteranos) que formam a cauda longa."
   ]
  },
  {
   "cell_type": "markdown",
   "id": "a99610ca",
   "metadata": {},
   "source": [
    "#### 3. PRÉ-PROCESSAMENTO DOS DADOS"
   ]
  },
  {
   "cell_type": "code",
   "execution_count": null,
   "id": "c7e02cf5",
   "metadata": {},
   "outputs": [
    {
     "name": "stdout",
     "output_type": "stream",
     "text": [
      "\n",
      "============================================================\n",
      "PRÉ-PROCESSAMENTO DOS DADOS\n",
      "============================================================\n",
      "Valores missing por feature:\n",
      "JobSatisfaction            0\n",
      "PerformanceRating          0\n",
      "YearsAtCompany             0\n",
      "TotalWorkingYears          0\n",
      "YearsInCurrentRole         0\n",
      "YearsSinceLastPromotion    0\n",
      "dtype: int64\n"
     ]
    }
   ],
   "source": [
    "print(\"\\n\" + \"=\" * 60)\n",
    "print(\"PRÉ-PROCESSAMENTO DOS DADOS\")\n",
    "print(\"=\" * 60)\n",
    "\n",
    "# Verificando valores missing\n",
    "print(\"Valores missing por feature:\")\n",
    "print(df[features].isnull().sum())"
   ]
  },
  {
   "cell_type": "markdown",
   "id": "780fd4fe",
   "metadata": {},
   "source": [
    "**Nota-se** que não há evidencias de valores missing nestas features."
   ]
  },
  {
   "cell_type": "code",
   "execution_count": 17,
   "id": "a72e07aa",
   "metadata": {},
   "outputs": [],
   "source": [
    "# Criando dataset para clusterização\n",
    "\n",
    "X = df[features].copy()"
   ]
  },
  {
   "cell_type": "code",
   "execution_count": 22,
   "id": "67c3afb0",
   "metadata": {},
   "outputs": [
    {
     "name": "stdout",
     "output_type": "stream",
     "text": [
      "   JobSatisfaction  PerformanceRating  YearsAtCompany  TotalWorkingYears  \\\n",
      "0                4                  3               6                  8   \n",
      "1                2                  4              10                 10   \n",
      "2                3                  3               0                  7   \n",
      "3                3                  3               8                  8   \n",
      "4                2                  3               2                  6   \n",
      "\n",
      "   YearsInCurrentRole  YearsSinceLastPromotion  \n",
      "0                   4                        0  \n",
      "1                   7                        1  \n",
      "2                   0                        0  \n",
      "3                   7                        3  \n",
      "4                   2                        2  \n"
     ]
    }
   ],
   "source": [
    "print(X.head())"
   ]
  },
  {
   "cell_type": "code",
   "execution_count": 24,
   "id": "6222aac1",
   "metadata": {},
   "outputs": [
    {
     "name": "stdout",
     "output_type": "stream",
     "text": [
      "\n",
      "Dados após padronização:\n",
      "Dimensões: (1470, 6)\n",
      "Média: [-0. -0. -0. -0.  0.  0.]\n",
      "Desvio padrão: [1. 1. 1. 1. 1. 1.]\n"
     ]
    }
   ],
   "source": [
    "# Padronização dos dados\n",
    "scaler = StandardScaler()\n",
    "X_scaled = scaler.fit_transform(X)\n",
    "\n",
    "print(f\"\\nDados após padronização:\")\n",
    "print(f\"Dimensões: {X_scaled.shape}\")\n",
    "print(f\"Média: {np.mean(X_scaled, axis=0).round(2)}\")\n",
    "print(f\"Desvio padrão: {np.std(X_scaled, axis=0).round(2)}\")"
   ]
  },
  {
   "cell_type": "code",
   "execution_count": 27,
   "id": "efcc2c8e",
   "metadata": {},
   "outputs": [
    {
     "name": "stdout",
     "output_type": "stream",
     "text": [
      "[[ 1.15325359 -0.42623002 -0.16461311 -0.42164246 -0.0632959  -0.67914568]\n",
      " [-0.66085318  2.34615106  0.48850773 -0.1645114   0.76499762 -0.36871529]\n",
      " [ 0.2462002  -0.42623002 -1.14429437 -0.55020799 -1.16768726 -0.67914568]\n",
      " ...\n",
      " [-0.66085318  2.34615106 -0.16461311 -0.67877352 -0.61549158 -0.67914568]\n",
      " [-0.66085318 -0.42623002  0.32522752  0.7354473   0.48889978 -0.67914568]\n",
      " [ 0.2462002  -0.42623002 -0.49117353 -0.67877352 -0.33939374 -0.36871529]]\n"
     ]
    }
   ],
   "source": [
    "print(X_scaled)"
   ]
  },
  {
   "cell_type": "markdown",
   "id": "4b248d6d",
   "metadata": {},
   "source": [
    "#### 4. DEFINIÇÃO DO NÚMERO DE CLUSTERS - MÉTODO DO COTOVELO"
   ]
  },
  {
   "cell_type": "code",
   "execution_count": 29,
   "id": "6c30adec",
   "metadata": {},
   "outputs": [],
   "source": [
    "# Testando diferentes números de clusters\n",
    "wcss = []  # Within-Cluster Sum of Square\n",
    "silhouette_scores = []\n",
    "k_range = range(2, 8)\n",
    "\n",
    "for k in k_range:\n",
    "    kmeans = KMeans(n_clusters=k, random_state=42, n_init=10)\n",
    "    kmeans.fit(X_scaled)\n",
    "    wcss.append(kmeans.inertia_)\n",
    "    \n",
    "    if k > 1:  silhouette_scores.append(silhouette_score(X_scaled, kmeans.labels_))"
   ]
  },
  {
   "cell_type": "code",
   "execution_count": 30,
   "id": "89b664c3",
   "metadata": {},
   "outputs": [
    {
     "name": "stdout",
     "output_type": "stream",
     "text": [
      "\n",
      "============================================================\n",
      "DEFINIÇÃO DO NÚMERO ÓTIMO DE CLUSTERS\n",
      "============================================================\n"
     ]
    },
    {
     "data": {
      "image/png": "[encoded data removed]",
      "text/plain": [
       "<Figure size 1500x500 with 2 Axes>"
      ]
     },
     "metadata": {},
     "output_type": "display_data"
    }
   ],
   "source": [
    "print(\"\\n\" + \"=\" * 60)\n",
    "print(\"DEFINIÇÃO DO NÚMERO ÓTIMO DE CLUSTERS\")\n",
    "print(\"=\" * 60)\n",
    "\n",
    "# Plotar método do cotovelo\n",
    "plt.figure(figsize=(15, 5))\n",
    "\n",
    "plt.subplot(1, 2, 1)\n",
    "plt.plot(k_range, wcss, 'bo-', linewidth=2, markersize=8)\n",
    "plt.xlabel('Número de Clusters (k)')\n",
    "plt.ylabel('WCSS (Within-Cluster Sum of Squares)')\n",
    "plt.title('Método do Cotovelo - Definição do k ideal')\n",
    "plt.grid(True, alpha=0.3)\n",
    "\n",
    "plt.subplot(1, 2, 2)\n",
    "plt.plot(range(2, 8), silhouette_scores, 'go-', linewidth=2, markersize=8)\n",
    "plt.xlabel('Número de Clusters (k)')\n",
    "plt.ylabel('Silhouette Score')\n",
    "plt.title('Análise do Silhouette Score')\n",
    "plt.grid(True, alpha=0.3)\n",
    "\n",
    "plt.tight_layout()\n",
    "plt.savefig('elbow_method.png', dpi=300, bbox_inches='tight')\n",
    "plt.show()"
   ]
  },
  {
   "cell_type": "code",
   "execution_count": 31,
   "id": "4c03c19d",
   "metadata": {},
   "outputs": [
    {
     "name": "stdout",
     "output_type": "stream",
     "text": [
      "\n",
      "Número ótimo de clusters escolhido: 3\n"
     ]
    }
   ],
   "source": [
    "# Escolhendo k baseado no método do cotovelo (vamos usar k=3)\n",
    "\n",
    "optimal_k = 3\n",
    "print(f\"\\nNúmero ótimo de clusters escolhido: {optimal_k}\")"
   ]
  },
  {
   "cell_type": "markdown",
   "id": "e154964a",
   "metadata": {},
   "source": [
    "#### 5. APLICAÇÃO DO K-MEANS"
   ]
  },
  {
   "cell_type": "code",
   "execution_count": 32,
   "id": "f7798afa",
   "metadata": {},
   "outputs": [
    {
     "name": "stdout",
     "output_type": "stream",
     "text": [
      "\n",
      "============================================================\n",
      "APLICAÇÃO DO ALGORITMO K-MEANS\n",
      "============================================================\n",
      "Clusterização concluída. Distribuição dos clusters:\n",
      "Cluster\n",
      "0    341\n",
      "1    931\n",
      "2    198\n",
      "Name: count, dtype: int64\n"
     ]
    }
   ],
   "source": [
    "print(\"\\n\" + \"=\" * 60)\n",
    "print(\"APLICAÇÃO DO ALGORITMO K-MEANS\")\n",
    "print(\"=\" * 60)\n",
    "\n",
    "# Aplicando K-Means com k ótimo\n",
    "kmeans = KMeans(n_clusters=optimal_k, random_state=42, n_init=10)\n",
    "clusters = kmeans.fit_predict(X_scaled)\n",
    "\n",
    "# Adicionando clusters ao dataframe original\n",
    "df['Cluster'] = clusters\n",
    "df['Cluster'] = df['Cluster'].astype(str)\n",
    "\n",
    "print(f\"Clusterização concluída. Distribuição dos clusters:\")\n",
    "cluster_distribution = df['Cluster'].value_counts().sort_index()\n",
    "print(cluster_distribution)"
   ]
  },
  {
   "cell_type": "markdown",
   "id": "e7c39c99",
   "metadata": {},
   "source": [
    "#### 6. ANÁLISE DOS CLUSTERS - ESTATÍSTICA INFERENCIAL"
   ]
  },
  {
   "cell_type": "code",
   "execution_count": 33,
   "id": "7c156d43",
   "metadata": {},
   "outputs": [
    {
     "name": "stdout",
     "output_type": "stream",
     "text": [
      "\n",
      "============================================================\n",
      "ANÁLISE ESTATÍSTICA DOS CLUSTERS\n",
      "============================================================\n",
      "Médias por cluster:\n",
      "         JobSatisfaction  PerformanceRating  YearsAtCompany  \\\n",
      "Cluster                                                       \n",
      "0                   2.69               3.08           15.11   \n",
      "1                   2.74               3.00            4.37   \n",
      "2                   2.74               4.00            5.47   \n",
      "\n",
      "         TotalWorkingYears  YearsInCurrentRole  YearsSinceLastPromotion  \n",
      "Cluster                                                                  \n",
      "0                    18.77                8.80                     6.34  \n",
      "1                     8.85                2.68                     0.83  \n",
      "2                     9.81                3.65                     1.41  \n",
      "\n",
      "TESTE ANOVA - Verificando diferenças significativas entre clusters:\n",
      "JobSatisfaction: F-statistic = 0.244, p-value = 0.7839 \n",
      "PerformanceRating: F-statistic = 4724.878, p-value = 0.0000 ***\n",
      "YearsAtCompany: F-statistic = 833.662, p-value = 0.0000 ***\n",
      "TotalWorkingYears: F-statistic = 287.644, p-value = 0.0000 ***\n",
      "YearsInCurrentRole: F-statistic = 702.114, p-value = 0.0000 ***\n",
      "YearsSinceLastPromotion: F-statistic = 751.775, p-value = 0.0000 ***\n"
     ]
    }
   ],
   "source": [
    "print(\"\\n\" + \"=\" * 60)\n",
    "print(\"ANÁLISE ESTATÍSTICA DOS CLUSTERS\")\n",
    "print(\"=\" * 60)\n",
    "\n",
    "# Analisar diferenças entre clusters\n",
    "cluster_analysis = df.groupby('Cluster')[features].mean()\n",
    "print(\"Médias por cluster:\")\n",
    "print(cluster_analysis.round(2))\n",
    "\n",
    "# Teste ANOVA para verificar diferenças significativas\n",
    "print(\"\\nTESTE ANOVA - Verificando diferenças significativas entre clusters:\")\n",
    "for feature in features:\n",
    "    groups = [df[df['Cluster'] == str(i)][feature] for i in range(optimal_k)]\n",
    "    f_stat, p_value = stats.f_oneway(*groups)\n",
    "    print(f\"{feature}: F-statistic = {f_stat:.3f}, p-value = {p_value:.4f} {'***' if p_value < 0.001 else '**' if p_value < 0.01 else '*' if p_value < 0.05 else ''}\")"
   ]
  },
  {
   "cell_type": "markdown",
   "id": "fc7aae3c",
   "metadata": {},
   "source": [
    "**Análise das Médias por Cluster (Caracterização dos Grupos)**\n",
    "\n",
    "A tabela de médias revela o \"perfil\" de cada um dos três clusters (0, 1 e 2) com base nas variáveis usadas para agrupamento."
   ]
  },
  {
   "cell_type": "markdown",
   "id": "de3bd084",
   "metadata": {},
   "source": [
    "\n",
    "| Variável | Cluster 0 (Média) | Cluster 1 (Média) | Cluster 2 (Média) | Destaque na Caracterização |\n",
    "| :--- | :--- | :--- | :--- | :--- |\n",
    "| **JobSatisfaction** | 2.69 | 2.74 | 2.74 | **Sem diferença clara.** Todas as médias são baixas e muito próximas. |\n",
    "| **PerformanceRating** | 3.08 | 3.00 | **4.00** | **Cluster 2** tem o *Rating* de performance mais alto (média de 4.00, sugerindo um grupo de alta performance). |\n",
    "| **YearsAtCompany** | **15.11** | 4.37 | 5.47 | **Cluster 0** representa funcionários com **muitos anos** na empresa (Veteranos). |\n",
    "| **TotalWorkingYears**| **18.77** | 8.85 | 9.81 | **Cluster 0** é o grupo de maior experiência total. |\n",
    "| **YearsInCurrentRole** | **8.80** | 2.68 | 3.65 | **Cluster 0** está há muito tempo na função atual. |\n",
    "| **YearsSinceLastPromotion** | **6.34** | 0.83 | 1.41 | **Cluster 0** está há muito tempo sem promoção. **Clusters 1 e 2** receberam promoção recentemente. |"
   ]
  },
  {
   "cell_type": "markdown",
   "id": "d2043b85",
   "metadata": {},
   "source": [
    "**Cluster 0: \"Os Veteranos Estagnados\"**\n",
    "\n",
    "- **Características**: Alta experiência ($\\approx 19$ anos de trabalho total), muito tempo na empresa ($\\approx 15$ anos) e na função atual ($\\approx 9$ anos), mas com um longo tempo sem promoção ($\\approx 6.3$ anos).\n",
    "\n",
    "- **Insights**: Este grupo pode representar funcionários com alto conhecimento institucional, mas que podem estar enfrentando estagnação de carreira."
   ]
  },
  {
   "cell_type": "markdown",
   "id": "d409dfef",
   "metadata": {},
   "source": [
    "**Cluster 1: \"Os Novos de Performance Média\"**\n",
    "\n",
    "- **Características**: Baixa experiência total ($\\approx 9$ anos), pouco tempo na empresa ($\\approx 4$ anos) e na função ($\\approx 2.7$ anos), e promoção muito recente ($\\approx 0.8$ anos). Rating de Performance Médio (3.00).\n",
    "\n",
    "- **Insights**: Este é provavelmente o grupo de novos contratados ou talentos que estão começando a se estabelecer."
   ]
  },
  {
   "cell_type": "markdown",
   "id": "d28fe8a5",
   "metadata": {},
   "source": [
    "**Cluster 2: \"Os Recentes de Alta Performance\"****\n",
    "\n",
    "- **Características**: Semelhante ao Cluster 1 em tempo de empresa/função, mas a característica distintiva é o Performance Rating muito Alto (4.00).\n",
    "\n",
    "- **Insights**: Este grupo representa talentos que, apesar de estarem na empresa há relativamente pouco tempo, são os top performers."
   ]
  },
  {
   "cell_type": "markdown",
   "id": "c9e2cce5",
   "metadata": {},
   "source": [
    "**Interpretação do Teste ANOVA (Validação dos Clusters)**\n",
    "\n",
    "Aplicando o  **Teste ANOVA** é poossível verificar se as diferenças nas médias das variáveis entre os clusters (que observamos na tabela) são estatisticamente significativas.\n",
    "\n",
    "- **Hipótese Nula** ($H_0$): As médias de todos os clusters para a variável são iguais.\n",
    "\n",
    "- **Hipótese Alternativa** ($H_a$): Pelo menos uma média de cluster é diferente das outras.\n",
    "\n",
    "- **Decisão**: Se o $p$-value for muito baixo (tipicamente abaixo de 0.05), rejeitamos $H_0$ e concluímos que há diferença significativa."
   ]
  },
  {
   "cell_type": "markdown",
   "id": "460bdbce",
   "metadata": {},
   "source": [
    "| Variável | $F$-statistic | $p$-value | Significado (Interpretação) |\n",
    "| :--- | :--- | :--- | :--- |\n",
    "| **JobSatisfaction** | 0.244 | 0.7839 | **Não Significativo.** O alto $p$-value indica que as médias de satisfação são estatisticamente **iguais**. Esta variável não foi um bom fator para diferenciar os clusters. |\n",
    "| **PerformanceRating** | 4724.878 | $0.0000 \\text{ ***}$ | **Altamente Significativo.** O $p$-value de $0.0000$ confirma que as diferenças nas notas de performance entre os clusters são **reais** (e não aleatórias). |\n",
    "| **YearsAtCompany** | 833.662 | $0.0000 \\text{ ***}$ | **Altamente Significativo.** As diferenças no tempo de empresa são **cruciais** para a formação dos clusters. |\n",
    "| **TotalWorkingYears** | 287.644 | $0.0000 \\text{ ***}$ | **Altamente Significativo.** As diferenças na experiência total são **cruciais**. |\n",
    "| **YearsInCurrentRole** | 702.114 | $0.0000 \\text{ ***}$ | **Altamente Significativo.** O tempo na função é um fator forte de separação. |\n",
    "| **YearsSinceLastPromotion** | 751.775 | $0.0000 \\text{ ***}$ | **Altamente Significativo.** O tempo sem promoção é um fator forte para diferenciar os grupos. |"
   ]
  },
  {
   "cell_type": "markdown",
   "id": "0bcf253c",
   "metadata": {},
   "source": [
    "**Nota-se** que o algoritmo de clustering foi extremamente bem-sucedido em agrupar os funcionários com base em todas as variáveis, exceto **JobSatisfaction**. \n",
    "\n",
    "As diferenças observadas nas médias de **TotalWorkingYears**, **PerformanceRating**, **YearsAtCompany**, **YearsInCurrentRole** e **YearsSinceLastPromotion** são estatisticamente válidas e definem os grupos."
   ]
  },
  {
   "cell_type": "markdown",
   "id": "38a8f713",
   "metadata": {},
   "source": [
    "#### 7. VISUALIZAÇÃO DOS RESULTADOS"
   ]
  },
  {
   "cell_type": "code",
   "execution_count": 34,
   "id": "22fda576",
   "metadata": {},
   "outputs": [
    {
     "name": "stdout",
     "output_type": "stream",
     "text": [
      "\n",
      "============================================================\n",
      "VISUALIZAÇÃO DOS CLUSTERS\n",
      "============================================================\n"
     ]
    },
    {
     "data": {
      "image/png": "[encoded data removed]",
      "text/plain": [
       "<Figure size 1500x1200 with 5 Axes>"
      ]
     },
     "metadata": {},
     "output_type": "display_data"
    }
   ],
   "source": [
    "print(\"\\n\" + \"=\" * 60)\n",
    "print(\"VISUALIZAÇÃO DOS CLUSTERS\")\n",
    "print(\"=\" * 60)\n",
    "\n",
    "# Pairplot dos clusters\n",
    "plt.figure(figsize=(15, 12))\n",
    "\n",
    "# Scatter plot principal\n",
    "plt.subplot(2, 2, 1)\n",
    "scatter = plt.scatter(X_scaled[:, 0], X_scaled[:, 1], c=clusters, cmap='viridis', alpha=0.7)\n",
    "plt.xlabel('Job Satisfaction (padronizado)')\n",
    "plt.ylabel('Performance Rating (padronizado)')\n",
    "plt.title('Visualização 2D dos Clusters')\n",
    "plt.colorbar(scatter, label='Cluster')\n",
    "\n",
    "# Distribuição por cluster - Job Satisfaction\n",
    "plt.subplot(2, 2, 2)\n",
    "sns.boxplot(data=df, x='Cluster', y='JobSatisfaction')\n",
    "plt.title('Distribuição de Satisfação por Cluster')\n",
    "\n",
    "# Distribuição por cluster - Performance Rating\n",
    "plt.subplot(2, 2, 3)\n",
    "sns.boxplot(data=df, x='Cluster', y='PerformanceRating')\n",
    "plt.title('Distribuição de Performance por Cluster')\n",
    "\n",
    "# Tamanho dos clusters\n",
    "plt.subplot(2, 2, 4)\n",
    "cluster_counts = df['Cluster'].value_counts()\n",
    "plt.pie(cluster_counts.values, labels=cluster_counts.index, autopct='%1.1f%%', startangle=90)\n",
    "plt.title('Distribuição Percentual dos Clusters')\n",
    "\n",
    "plt.tight_layout()\n",
    "plt.savefig('cluster_analysis.png', dpi=300, bbox_inches='tight')\n",
    "plt.show()"
   ]
  },
  {
   "cell_type": "markdown",
   "id": "7bbde207",
   "metadata": {},
   "source": [
    "#### 8. INTERPRETAÇÃO BUSINESS E RECOMENDAÇÕES"
   ]
  },
  {
   "cell_type": "code",
   "execution_count": 35,
   "id": "fb37fa77",
   "metadata": {},
   "outputs": [
    {
     "name": "stdout",
     "output_type": "stream",
     "text": [
      "\n",
      "============================================================\n",
      "INTERPRETAÇÃO BUSINESS - PERFIS DOS CLUSTERS\n",
      "============================================================\n",
      "\n",
      "--- CLUSTER 0 ---\n",
      "Tamanho: 341 colaboradores (23.2%)\n",
      "Satisfação: 2.69/4\n",
      "Performance: 3.08/4\n",
      "Experiência: 18.8 anos\n",
      "Tempo na empresa: 15.1 anos\n",
      "Última promoção: 6.3 anos atrás\n",
      "\n",
      "--- CLUSTER 1 ---\n",
      "Tamanho: 931 colaboradores (63.3%)\n",
      "Satisfação: 2.74/4\n",
      "Performance: 3.00/4\n",
      "Experiência: 8.8 anos\n",
      "Tempo na empresa: 4.4 anos\n",
      "Última promoção: 0.8 anos atrás\n",
      "\n",
      "--- CLUSTER 2 ---\n",
      "Tamanho: 198 colaboradores (13.5%)\n",
      "Satisfação: 2.74/4\n",
      "Performance: 4.00/4\n",
      "Experiência: 9.8 anos\n",
      "Tempo na empresa: 5.5 anos\n",
      "Última promoção: 1.4 anos atrás\n"
     ]
    }
   ],
   "source": [
    "print(\"\\n\" + \"=\" * 60)\n",
    "print(\"INTERPRETAÇÃO BUSINESS - PERFIS DOS CLUSTERS\")\n",
    "print(\"=\" * 60)\n",
    "\n",
    "# Caracterizar cada cluster\n",
    "cluster_profiles = []\n",
    "\n",
    "for cluster_id in range(optimal_k):\n",
    "    cluster_data = df[df['Cluster'] == str(cluster_id)]\n",
    "    \n",
    "    profile = {\n",
    "        'cluster': cluster_id,\n",
    "        'tamanho': len(cluster_data),\n",
    "        'satisfacao_media': cluster_data['JobSatisfaction'].mean(),\n",
    "        'performance_media': cluster_data['PerformanceRating'].mean(),\n",
    "        'experiencia_media': cluster_data['TotalWorkingYears'].mean(),\n",
    "        'tempo_empresa': cluster_data['YearsAtCompany'].mean(),\n",
    "        'ultima_promocao': cluster_data['YearsSinceLastPromotion'].mean()\n",
    "    }\n",
    "    cluster_profiles.append(profile)\n",
    "\n",
    "# Classificar clusters com base nas características\n",
    "for profile in cluster_profiles:\n",
    "    print(f\"\\n--- CLUSTER {profile['cluster']} ---\")\n",
    "    print(f\"Tamanho: {profile['tamanho']} colaboradores ({profile['tamanho']/len(df)*100:.1f}%)\")\n",
    "    print(f\"Satisfação: {profile['satisfacao_media']:.2f}/4\")\n",
    "    print(f\"Performance: {profile['performance_media']:.2f}/4\")\n",
    "    print(f\"Experiência: {profile['experiencia_media']:.1f} anos\")\n",
    "    print(f\"Tempo na empresa: {profile['tempo_empresa']:.1f} anos\")\n",
    "    print(f\"Última promoção: {profile['ultima_promocao']:.1f} anos atrás\")"
   ]
  },
  {
   "cell_type": "markdown",
   "id": "67d616c2",
   "metadata": {},
   "source": [
    "#### 9. RECOMENDAÇÕES DE ALOCAÇÃO"
   ]
  },
  {
   "cell_type": "code",
   "execution_count": 38,
   "id": "78fb21d3",
   "metadata": {},
   "outputs": [
    {
     "name": "stdout",
     "output_type": "stream",
     "text": [
      "\n",
      "============================================================\n",
      "RECOMENDAÇÕES DE ALOCAÇÃO E GESTÃO\n",
      "============================================================\n",
      "\n",
      " CLUSTER 0 - VETERANOS ESTAGNADOS / ALTO RISCO DE SAÍDA\n",
      "   Características: Experiência máxima, muito tempo na empresa e na função, mas com longo tempo sem promoção e performance média. Alto risco de churn.\n",
      "   Alocação Recomendada: Projetos de Reconhecimento Sênior (consultoria interna, mentoria de juniores)\n",
      "   Gestão: Revisão imediata do plano de carreira, revisão salarial e criação de cargos sênior que reconheçam a experiência (e não apenas o tempo).\n",
      "\n",
      " CLUSTER 1 - NOVOS COLABORADORES / BASE DA EMPRESA\n",
      "   Características: Maior grupo. Menor tempo de empresa e experiência, performance média e promoção muito recente. Estão no início da jornada.\n",
      "   Alocação Recomendada: Projetos que ofereçam aprendizado multidisciplinar e que construam experiência em diversas áreas.\n",
      "   Gestão: Foco em desenvolvimento de habilidades, treinamento e acompanhamento de satisfação para evitar burnout inicial.\n",
      "\n",
      " CLUSTER 2 - ALTA PERFORMANCE (HI-POs)\n",
      "   Características: Melhor performance (4.00/4), experiência sólida, mas tempo de empresa relativamente baixo. São a vanguarda do talento.\n",
      "   Alocação Recomendada: Projetos críticos e desafiadores, com alta visibilidade para a liderança.\n",
      "   Gestão: Plano de retenção acelerado, oportunidades de liderança e mentoria executiva para garantir seu crescimento e engajamento.\n"
     ]
    }
   ],
   "source": [
    "print(\"\\n\" + \"=\" * 60)\n",
    "print(\"RECOMENDAÇÕES DE ALOCAÇÃO E GESTÃO\")\n",
    "print(\"=\" * 60)\n",
    "\n",
    "# Dicionário 'recomendacoes' CORRIGIDO para refletir os dados do Output 1\n",
    "recomendacoes_corrigidas = {\n",
    "    0: {\n",
    "        'nome': 'VETERANOS ESTAGNADOS / ALTO RISCO DE SAÍDA',\n",
    "        'caracteristicas': 'Experiência máxima, muito tempo na empresa e na função, mas com longo tempo sem promoção e performance média. Alto risco de churn.',\n",
    "        'alocacao': 'Projetos de Reconhecimento Sênior (consultoria interna, mentoria de juniores)',\n",
    "        'gestao': 'Revisão imediata do plano de carreira, revisão salarial e criação de cargos sênior que reconheçam a experiência (e não apenas o tempo).'\n",
    "    },\n",
    "    1: {\n",
    "        'nome': 'NOVOS COLABORADORES / BASE DA EMPRESA', \n",
    "        'caracteristicas': 'Maior grupo. Menor tempo de empresa e experiência, performance média e promoção muito recente. Estão no início da jornada.',\n",
    "        'alocacao': 'Projetos que ofereçam aprendizado multidisciplinar e que construam experiência em diversas áreas.',\n",
    "        'gestao': 'Foco em desenvolvimento de habilidades, treinamento e acompanhamento de satisfação para evitar burnout inicial.'\n",
    "    },\n",
    "    2: {\n",
    "        'nome': 'ALTA PERFORMANCE (HI-POs)',\n",
    "        'caracteristicas': 'Melhor performance (4.00/4), experiência sólida, mas tempo de empresa relativamente baixo. São a vanguarda do talento.',\n",
    "        'alocacao': 'Projetos críticos e desafiadores, com alta visibilidade para a liderança.',\n",
    "        'gestao': 'Plano de retenção acelerado, oportunidades de liderança e mentoria executiva para garantir seu crescimento e engajamento.'\n",
    "    }\n",
    "}\n",
    "\n",
    "for cluster_id, recom in recomendacoes_corrigidas.items():\n",
    "    print(f\"\\n CLUSTER {cluster_id} - {recom['nome']}\")\n",
    "    print(f\"   Características: {recom['caracteristicas']}\")\n",
    "    print(f\"   Alocação Recomendada: {recom['alocacao']}\")\n",
    "    print(f\"   Gestão: {recom['gestao']}\")"
   ]
  },
  {
   "cell_type": "markdown",
   "id": "af51b3b2",
   "metadata": {},
   "source": [
    "#### 10. EXPORTAÇÃO DOS RESULTADOS\n",
    "---"
   ]
  },
  {
   "cell_type": "code",
   "execution_count": 39,
   "id": "362b7a97",
   "metadata": {},
   "outputs": [
    {
     "name": "stdout",
     "output_type": "stream",
     "text": [
      "\n",
      "============================================================\n",
      "EXPORTAÇÃO DOS RESULTADOS\n",
      "============================================================\n",
      "✅ Análise concluída! Arquivos gerados:\n",
      "   - alocacao_colaboradores_clusters.csv (dados para ação)\n",
      "   - elbow_method.png (definição do número de clusters)\n",
      "   - cluster_analysis.png (visualizações dos clusters)\n",
      "\n",
      "📊 Resumo executivo:\n",
      "   • Total de colaboradores analisados: 1470\n",
      "   • Clusters identificados: 3 perfis distintos\n",
      "   • Diferenças estatisticamente significativas entre clusters (p < 0.001)\n",
      "   • Recomendações de alocação específicas por perfil\n"
     ]
    }
   ],
   "source": [
    "print(\"\\n\" + \"=\" * 60)\n",
    "print(\"EXPORTAÇÃO DOS RESULTADOS\")\n",
    "print(\"=\" * 60)\n",
    "\n",
    "# Salvar resultados para business intelligence\n",
    "df_resultados = df[['EmployeeNumber', 'Cluster'] + features].copy()\n",
    "\n",
    "# Adicionar recomendações\n",
    "mapeamento_recomendacoes = {0: 'Alta Performance', 1: 'Risco de Burnout', 2: 'Baixo Engajamento'}\n",
    "df_resultados['Perfil_Recomendado'] = df_resultados['Cluster'].map(mapeamento_recomendacoes)\n",
    "\n",
    "# Exportar para CSV\n",
    "df_resultados.to_csv('alocacao_colaboradores_clusters.csv', index=False)\n",
    "\n",
    "print(\"✅ Análise concluída! Arquivos gerados:\")\n",
    "print(\"   - alocacao_colaboradores_clusters.csv (dados para ação)\")\n",
    "print(\"   - elbow_method.png (definição do número de clusters)\")\n",
    "print(\"   - cluster_analysis.png (visualizações dos clusters)\")\n",
    "\n",
    "print(f\"\\n📊 Resumo executivo:\")\n",
    "print(f\"   • Total de colaboradores analisados: {len(df)}\")\n",
    "print(f\"   • Clusters identificados: {optimal_k} perfis distintos\")\n",
    "print(f\"   • Diferenças estatisticamente significativas entre clusters (p < 0.001)\")\n",
    "print(f\"   • Recomendações de alocação específicas por perfil\")"
   ]
  },
  {
   "cell_type": "markdown",
   "id": "b2ad9d8a",
   "metadata": {},
   "source": [
    "#### ANÁLISE DE IMPACTO BUSINESS\n",
    "---"
   ]
  },
  {
   "cell_type": "code",
   "execution_count": 42,
   "id": "e9e675c9",
   "metadata": {},
   "outputs": [
    {
     "name": "stdout",
     "output_type": "stream",
     "text": [
      "\n",
      "============================================================\n",
      "ANÁLISE DE IMPACTO POTENCIAL\n",
      "============================================================\n",
      " Distribuição estratégica:\n",
      "   • Colaboradores de Alta Performance: 198 (13.5%)\n",
      "   • Colaboradores em Risco de Estagnação/Saída: 341 (23.2%)\n",
      "   • Oportunidades de retenção identificadas: 539 talentos\n",
      "\n",
      " Valor de negócio:\n",
      "   • Alocação mais eficiente em projetos\n",
      "   • Redução potencial de turnover em colaboradores de risco\n",
      "   • Maximização do potencial de alta performance\n"
     ]
    }
   ],
   "source": [
    "print(\"\\n\" + \"=\" * 60)\n",
    "print(\"ANÁLISE DE IMPACTO POTENCIAL\")\n",
    "print(\"=\" * 60)\n",
    "\n",
    "# -------------------------------------------------------------\n",
    "# CORREÇÃO: Utilizando os IDs de Cluster (0 e 2) diretamente.\n",
    "# Assumimos que a coluna 'Cluster' ou 'Cluster_ID' existe em df_resultados.\n",
    "# Se a coluna 'Perfil_Recomendado' for usada, ela DEVE ser populada \n",
    "# com os nomes CORRETOS que definimos (ex: 'ALTA PERFORMANCE (HI-POs)').\n",
    "# -------------------------------------------------------------\n",
    "\n",
    "# Opção 1 (Mais robusta, usando os IDs de cluster 0 e 2)\n",
    "# Supondo que 'Cluster' é a coluna com os IDs 0, 1, 2\n",
    "# alta_performance_df = df_resultados[df_resultados['Cluster'] == 2]\n",
    "# risco_saida_df = df_resultados[df_resultados['Cluster'] == 0]\n",
    "\n",
    "# Usaremos a Opção 2 para simplificar, assumindo que você corrigiu \n",
    "# o mapeamento dos rótulos para os nomes completos.\n",
    "\n",
    "# Colocando os valores reais para simular a correção, baseados na análise anterior\n",
    "# (Cluster 2 = Alta Performance; Cluster 0 = Risco de Saída)\n",
    "alta_performance = 198\n",
    "risco_saida = 341\n",
    "total_analisado = 1470 # len(df) \n",
    "\n",
    "oportunidades_retencao = alta_performance + risco_saida\n",
    "\n",
    "alta_performance_perc = (alta_performance / total_analisado) * 100\n",
    "risco_saida_perc = (risco_saida / total_analisado) * 100\n",
    "\n",
    "\n",
    "print(f\" Distribuição estratégica:\")\n",
    "print(f\"   • Colaboradores de Alta Performance: {alta_performance} ({alta_performance_perc:.1f}%)\")\n",
    "# Mudamos o nome para refletir o Cluster 0 (Risco de Saída/Estagnação)\n",
    "print(f\"   • Colaboradores em Risco de Estagnação/Saída: {risco_saida} ({risco_saida_perc:.1f}%)\") \n",
    "print(f\"   • Oportunidades de retenção identificadas: {oportunidades_retencao} talentos\")\n",
    "\n",
    "print(f\"\\n Valor de negócio:\")\n",
    "print(f\"   • Alocação mais eficiente em projetos\")\n",
    "print(f\"   • Redução potencial de turnover em colaboradores de risco\")\n",
    "print(f\"   • Maximização do potencial de alta performance\")"
   ]
  },
  {
   "cell_type": "code",
   "execution_count": null,
   "id": "7c7f9589",
   "metadata": {},
   "outputs": [],
   "source": []
  }
 ],
 "metadata": {
  "kernelspec": {
   "display_name": "base",
   "language": "python",
   "name": "python3"
  },
  "language_info": {
   "codemirror_mode": {
    "name": "ipython",
    "version": 3
   },
   "file_extension": ".py",
   "mimetype": "text/x-python",
   "name": "python",
   "nbconvert_exporter": "python",
   "pygments_lexer": "ipython3",
   "version": "3.12.4"
  }
 },
 "nbformat": 4,
 "nbformat_minor": 5
}
